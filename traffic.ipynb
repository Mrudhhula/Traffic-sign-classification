{
 "cells": [
  {
   "cell_type": "code",
   "execution_count": 24,
   "id": "5a7e24ad-62da-4e0a-9d4e-78537d4fa554",
   "metadata": {},
   "outputs": [],
   "source": [
    "import numpy as np"
   ]
  },
  {
   "cell_type": "code",
   "execution_count": 25,
   "id": "51600b2c-d594-4626-80a7-af274f8cb27b",
   "metadata": {},
   "outputs": [],
   "source": [
    "import pandas as pd\n",
    "import matplotlib.pyplot as plt\n",
    "import tensorflow as tf \n",
    "from PIL import Image\n",
    "import os \n",
    "from sklearn.model_selection import train_test_split \n",
    "from keras.utils import to_categorical \n",
    "from keras.models import Sequential \n",
    "from keras.layers import Conv2D, MaxPool2D, Dense, Flatten, Dropout\n"
   ]
  },
  {
   "cell_type": "code",
   "execution_count": 26,
   "id": "54cdbe41-fe26-42d3-b3a9-8c1b8d0b1f39",
   "metadata": {},
   "outputs": [
    {
     "data": {
      "text/plain": [
       "'D:\\\\mlProjects\\\\archive'"
      ]
     },
     "execution_count": 26,
     "metadata": {},
     "output_type": "execute_result"
    }
   ],
   "source": [
    "path=os.getcwd()\n",
    "path"
   ]
  },
  {
   "cell_type": "code",
   "execution_count": 36,
   "id": "85521df9-b6bf-4d41-bcd2-28c2198274d7",
   "metadata": {},
   "outputs": [],
   "source": [
    "data = []\n",
    "labels = []\n",
    "classes = 43 \n",
    "cur_path = os.getcwd() \n",
    "for i in range(classes): \n",
    "    path = os. path.join(cur_path,'Train', str(i)) \n",
    "    images = os.listdir(path) \n",
    "    for a in images: \n",
    "         try: \n",
    "            image = Image.open(path + '\\\\'+ a) \n",
    "            image = image.resize((30,30)) \n",
    "            image = np.array(image) \n",
    "            data.append(image) \n",
    "            labels.append(i) \n",
    "         except: \n",
    "            print(\"Error loading image\") \n",
    "data = np.array(data)\n",
    "labels = np.array(labels)"
   ]
  },
  {
   "cell_type": "code",
   "execution_count": 37,
   "id": "954e6ea3-c96b-4563-800c-12d96627c989",
   "metadata": {},
   "outputs": [
    {
     "name": "stdout",
     "output_type": "stream",
     "text": [
      "(39209, 30, 30, 3) (39209,)\n",
      "(31367, 30, 30, 3) (7842, 30, 30, 3) (31367,) (7842,)\n"
     ]
    }
   ],
   "source": [
    "print(data.shape, labels.shape)\n",
    "X_train, X_test, y_train, y_test = train_test_split(data, labels, test_size=0.2, random_state=42)\n",
    "print(X_train.shape, X_test.shape, y_train.shape, y_test.shape)"
   ]
  },
  {
   "cell_type": "code",
   "execution_count": 38,
   "id": "d1488ce4-d30f-47bd-b301-ec21ef4a6242",
   "metadata": {},
   "outputs": [],
   "source": [
    "y_train = to_categorical(y_train, 43)\n",
    "y_test = to_categorical(y_test, 43)"
   ]
  },
  {
   "cell_type": "code",
   "execution_count": 15,
   "id": "c05f46f9-8aa3-4094-8544-70754d3d9fa5",
   "metadata": {},
   "outputs": [],
   "source": [
    "model = Sequential()\n",
    "model.add(Conv2D(filters=32, kernel_size=(5,5), activation='relu', input_shape=X_t1.shape[1:]))\n",
    "model.add(Conv2D(filters=32, kernel_size=(5,5), activation='relu'))\n",
    "model.add(MaxPool2D(pool_size=(2, 2)))\n",
    "model.add(Dropout(rate=0.25))\n",
    "model.add(Conv2D(filters=64, kernel_size=(3, 3), activation='relu'))\n",
    "model.add(Conv2D(filters=64, kernel_size=(3, 3), activation='relu'))\n",
    "model.add(MaxPool2D(pool_size=(2, 2)))\n",
    "model.add(Dropout(rate=0.25))\n",
    "model.add(Flatten())\n",
    "model.add(Dense(256, activation='relu'))\n",
    "model.add(Dropout(rate=0.5))\n",
    "model.add(Dense(43, activation='softmax'))\n",
    "model.compile(loss='categorical_crossentropy', optimizer='adam', metrics=['accuracy'])"
   ]
  },
  {
   "cell_type": "code",
   "execution_count": 16,
   "id": "5ae17138-321c-476d-966c-e761fa755c71",
   "metadata": {},
   "outputs": [
    {
     "name": "stdout",
     "output_type": "stream",
     "text": [
      "Epoch 1/15\n",
      "981/981 [==============================] - 98s 96ms/step - loss: 3.0662 - accuracy: 0.2106 - val_loss: 1.4331 - val_accuracy: 0.5959\n",
      "Epoch 2/15\n",
      "981/981 [==============================] - 93s 95ms/step - loss: 1.3217 - accuracy: 0.5982 - val_loss: 0.5599 - val_accuracy: 0.8405\n",
      "Epoch 3/15\n",
      "981/981 [==============================] - 92s 94ms/step - loss: 0.8298 - accuracy: 0.7489 - val_loss: 0.3176 - val_accuracy: 0.9045\n",
      "Epoch 4/15\n",
      "981/981 [==============================] - 93s 95ms/step - loss: 0.6080 - accuracy: 0.8163 - val_loss: 0.2537 - val_accuracy: 0.9138\n",
      "Epoch 5/15\n",
      "981/981 [==============================] - 92s 94ms/step - loss: 0.5030 - accuracy: 0.8478 - val_loss: 0.1656 - val_accuracy: 0.9476\n",
      "Epoch 6/15\n",
      "981/981 [==============================] - 93s 94ms/step - loss: 0.4127 - accuracy: 0.8763 - val_loss: 0.1535 - val_accuracy: 0.9566\n",
      "Epoch 7/15\n",
      "981/981 [==============================] - 92s 94ms/step - loss: 0.4041 - accuracy: 0.8793 - val_loss: 0.1335 - val_accuracy: 0.9605\n",
      "Epoch 8/15\n",
      "981/981 [==============================] - 93s 94ms/step - loss: 0.3388 - accuracy: 0.8989 - val_loss: 0.1691 - val_accuracy: 0.9547\n",
      "Epoch 9/15\n",
      "981/981 [==============================] - 92s 94ms/step - loss: 0.3052 - accuracy: 0.9090 - val_loss: 0.0989 - val_accuracy: 0.9689\n",
      "Epoch 10/15\n",
      "981/981 [==============================] - 93s 95ms/step - loss: 0.2871 - accuracy: 0.9149 - val_loss: 0.1059 - val_accuracy: 0.9693\n",
      "Epoch 11/15\n",
      "981/981 [==============================] - 93s 95ms/step - loss: 0.2913 - accuracy: 0.9175 - val_loss: 0.1072 - val_accuracy: 0.9703\n",
      "Epoch 12/15\n",
      "981/981 [==============================] - 94s 95ms/step - loss: 0.2825 - accuracy: 0.9172 - val_loss: 0.1062 - val_accuracy: 0.9691\n",
      "Epoch 13/15\n",
      "981/981 [==============================] - 93s 95ms/step - loss: 0.2658 - accuracy: 0.9237 - val_loss: 0.0878 - val_accuracy: 0.9751\n",
      "Epoch 14/15\n",
      "981/981 [==============================] - 94s 96ms/step - loss: 0.2469 - accuracy: 0.9286 - val_loss: 0.1158 - val_accuracy: 0.9689\n",
      "Epoch 15/15\n",
      "981/981 [==============================] - 94s 95ms/step - loss: 0.2461 - accuracy: 0.9311 - val_loss: 0.0641 - val_accuracy: 0.9836\n"
     ]
    }
   ],
   "source": [
    "epochs = 15\n",
    "anc = model.fit(X_train, y_test, batch_size=32, epochs=epochs, validation_data=(X_test, y_test))"
   ]
  },
  {
   "cell_type": "code",
   "execution_count": 39,
   "id": "471e15b1-5ed8-4eba-879a-c9fa69d5725c",
   "metadata": {},
   "outputs": [],
   "source": [
    "from tensorflow.keras.models import load_model"
   ]
  },
  {
   "cell_type": "code",
   "execution_count": 18,
   "id": "1ce25f77-3567-4dec-9cbd-8026da6f8cce",
   "metadata": {},
   "outputs": [
    {
     "name": "stdout",
     "output_type": "stream",
     "text": [
      "WARNING:tensorflow:HDF5 format does not save weights of `optimizer_experimental.Optimizer`, your optimizer will be recompiled at loading time.\n"
     ]
    }
   ],
   "source": [
    "model.save('trafficsign.h5')"
   ]
  },
  {
   "cell_type": "code",
   "execution_count": 40,
   "id": "96cfb768-4453-4d1f-a9e5-2b3e1b4bea45",
   "metadata": {},
   "outputs": [
    {
     "name": "stdout",
     "output_type": "stream",
     "text": [
      "WARNING:tensorflow:Loading model from HDF5 will not restore the optimizer's weights, since the optimizer is an instance of `optimizer_experimental.Optimizer`\n"
     ]
    }
   ],
   "source": [
    "model=load_model('trafficsign.h5')"
   ]
  },
  {
   "cell_type": "code",
   "execution_count": 47,
   "id": "7075e8a7-8c23-4ee7-aa3d-ad7d99c454a6",
   "metadata": {},
   "outputs": [],
   "source": [
    "from sklearn.metrics import accuracy_score\n",
    "y_test = pd.read_csv('Test.csv')\n",
    "labels = y_test[\"ClassId\"].values\n",
    "imgs = y_test[\"Path\"].values\n",
    "\n"
   ]
  },
  {
   "cell_type": "code",
   "execution_count": 72,
   "id": "1ed51bc9-9bf8-45bd-a3ef-caa5a1f19e93",
   "metadata": {},
   "outputs": [],
   "source": [
    "data=[]\n",
    "for img in imgs:\n",
    "    image = Image.open(img)\n",
    "    image = image.resize((30,30))\n",
    "    data.append(np.array(image))\n",
    "\n",
    "\n"
   ]
  },
  {
   "cell_type": "code",
   "execution_count": 73,
   "id": "36375405-2e64-465f-9501-6f1dd9f5968b",
   "metadata": {},
   "outputs": [
    {
     "data": {
      "text/plain": [
       "(12630, 30, 30, 3)"
      ]
     },
     "execution_count": 73,
     "metadata": {},
     "output_type": "execute_result"
    }
   ],
   "source": [
    "X_test=np.array(data)\n",
    "X_test.shape\n"
   ]
  },
  {
   "cell_type": "code",
   "execution_count": 68,
   "id": "98279603-3d8d-40cc-b02e-f08870bd79d9",
   "metadata": {},
   "outputs": [
    {
     "name": "stdout",
     "output_type": "stream",
     "text": [
      "395/395 [==============================] - 19s 48ms/step\n"
     ]
    }
   ],
   "source": [
    "predict_x=model.predict(X_test) \n",
    "classes_x=np.argmax(predict_x,axis=1)"
   ]
  },
  {
   "cell_type": "code",
   "execution_count": 69,
   "id": "0bb64cfd-5f9d-4de0-ac34-438ce0b704a0",
   "metadata": {},
   "outputs": [
    {
     "data": {
      "text/plain": [
       "array([16,  1, 38, ...,  5,  7, 10], dtype=int64)"
      ]
     },
     "execution_count": 69,
     "metadata": {},
     "output_type": "execute_result"
    }
   ],
   "source": [
    "classes_x"
   ]
  },
  {
   "cell_type": "code",
   "execution_count": 70,
   "id": "de3ecd17-2483-480f-8bf2-8686ceff751d",
   "metadata": {},
   "outputs": [
    {
     "name": "stdout",
     "output_type": "stream",
     "text": [
      "0.9419635787806809\n"
     ]
    }
   ],
   "source": [
    "from sklearn.metrics import accuracy_score\n",
    "print(accuracy_score(labels, classes_x))"
   ]
  },
  {
   "cell_type": "code",
   "execution_count": 123,
   "id": "6c7a0311-2661-4092-8343-a7ff49582843",
   "metadata": {},
   "outputs": [],
   "source": [
    "classes = {' 0':'Speed limit (20km/h)',\n",
    "           1:'Speed limit (30km/h)',\n",
    "           2:'Speed limit (50km/h)',\n",
    "           3:'Speed limit (60km/h)',\n",
    "           4:'Speed limit (70km/h)',\n",
    "           5:'Speed limit (80km/h)',\n",
    "           6:'End of speed limit (80km/h)',\n",
    "           7:'Speed limit (100km/h)',\n",
    "           8:'Speed limit (120km/h)',\n",
    "           9:'No passing',\n",
    "           10:'No passing veh over 3.5 tons',\n",
    "           11:'Right-of-way at intersection',\n",
    "           12:'Priority road',\n",
    "           13:'Yield',\n",
    "           14:'Stop',\n",
    "           15:'No vehicles',\n",
    "           16:'Veh > 3.5 tons prohibited',\n",
    "           17:'No entry',\n",
    "           18:'General caution',\n",
    "           19:'Dangerous curve left',\n",
    "           20:'Dangerous curve right',\n",
    "           21:'Double curve',\n",
    "           22:'Bumpy road',\n",
    "           23:'Slippery road',\n",
    "           24:'Road narrows on the right',\n",
    "           25:'Road work',\n",
    "           26:'Traffic signals',\n",
    "           27:'Pedestrians',\n",
    "           28:'Children crossing',\n",
    "           29:'Bicycles crossing',\n",
    "           30:'Beware of ice/snow',\n",
    "           31:'Wild animals crossing',\n",
    "           32:'End speed + passing limits',\n",
    "           33:'Turn right ahead',\n",
    "           34:'Turn left ahead',\n",
    "           35:'Ahead only',\n",
    "           36:'Go straight or right',\n",
    "           37:'Go straight or left',\n",
    "           38:'Keep right',\n",
    "           39:'Keep left',\n",
    "           40:'Roundabout mandatory',\n",
    "           41:'End of no passing',\n",
    "           42:'End no passing vehicle with a weight greater than 3.5 tons' }"
   ]
  },
  {
   "cell_type": "code",
   "execution_count": null,
   "id": "54905674-8621-462e-a537-9182b104924c",
   "metadata": {},
   "outputs": [],
   "source": [
    "image = Image.open('/custom_traffic.png')\n",
    "image=image.convert('RGB')\n",
    "image = image.resize((30,30))\n",
    "image = numpy.expand_dims(image, axis=0)\n",
    "image = numpy.array(image)\n",
    "image"
   ]
  },
  {
   "cell_type": "code",
   "execution_count": 117,
   "id": "a06aa489-0789-4d60-9110-faff7fe12967",
   "metadata": {},
   "outputs": [
    {
     "name": "stdout",
     "output_type": "stream",
     "text": [
      "1/1 [==============================] - 0s 121ms/step\n"
     ]
    }
   ],
   "source": [
    "p_x=model.predict(image) \n",
    "c_x=np.argmax(p_x,axis=1)"
   ]
  },
  {
   "cell_type": "code",
   "execution_count": 124,
   "id": "6b419ab7-848b-459b-8d9c-3e6929366532",
   "metadata": {},
   "outputs": [
    {
     "data": {
      "text/plain": [
       "'Yield'"
      ]
     },
     "execution_count": 124,
     "metadata": {},
     "output_type": "execute_result"
    }
   ],
   "source": [
    "classes[c_x[0]]"
   ]
  },
  {
   "cell_type": "code",
   "execution_count": null,
   "id": "655f9fca-9234-4e8e-848f-98b2365144be",
   "metadata": {},
   "outputs": [],
   "source": [
    "image = Image.open('/custom2.jfif')\n",
    "image=image.convert('RGB')\n",
    "image = image.resize((30,30))\n",
    "image = numpy.expand_dims(image, axis=0)\n",
    "image = numpy.array(image)\n",
    "image"
   ]
  },
  {
   "cell_type": "code",
   "execution_count": 126,
   "id": "ccd83fd3-1da0-4aca-ad1e-bdd33273f659",
   "metadata": {},
   "outputs": [
    {
     "name": "stdout",
     "output_type": "stream",
     "text": [
      "1/1 [==============================] - 0s 33ms/step\n"
     ]
    }
   ],
   "source": [
    "p_x=model.predict(image) \n",
    "c_x=np.argmax(p_x,axis=1)"
   ]
  },
  {
   "cell_type": "code",
   "execution_count": 127,
   "id": "9183b52c-57e5-4a20-8761-f4603e1eb270",
   "metadata": {},
   "outputs": [
    {
     "data": {
      "text/plain": [
       "'Stop'"
      ]
     },
     "execution_count": 127,
     "metadata": {},
     "output_type": "execute_result"
    }
   ],
   "source": [
    "classes[c_x[0]]"
   ]
  },
  {
   "cell_type": "code",
   "execution_count": null,
   "id": "4d6784ec-6d66-4d0d-8f8f-7fc5d7960ca1",
   "metadata": {},
   "outputs": [],
   "source": []
  }
 ],
 "metadata": {
  "kernelspec": {
   "display_name": "Python 3 (ipykernel)",
   "language": "python",
   "name": "python3"
  },
  "language_info": {
   "codemirror_mode": {
    "name": "ipython",
    "version": 3
   },
   "file_extension": ".py",
   "mimetype": "text/x-python",
   "name": "python",
   "nbconvert_exporter": "python",
   "pygments_lexer": "ipython3",
   "version": "3.9.12"
  }
 },
 "nbformat": 4,
 "nbformat_minor": 5
}
